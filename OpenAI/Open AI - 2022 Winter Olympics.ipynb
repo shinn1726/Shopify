{
 "cells": [
  {
   "cell_type": "code",
   "execution_count": 2,
   "id": "600910ff",
   "metadata": {},
   "outputs": [],
   "source": [
    "# imports\n",
    "import os\n",
    "import ast  # for converting embeddings saved as strings back to arrays\n",
    "import openai  # for calling the OpenAI API\n",
    "import pandas as pd  # for storing text and embeddings data\n",
    "import tiktoken  # for counting tokens\n",
    "from scipy import spatial  # for calculating vector similarities for search\n",
    "\n",
    "\n",
    "\n",
    "\n",
    "#openai.api_base = \"https://azure-openai-jw01.openai.azure.com/\" # your endpoint should look like the following https://YOUR_RESOURCE_NAME.openai.azure.com/\n",
    "openai.api_type = \"azure\"\n",
    "openai.api_base = os.getenv(\"OPENAI_API_BASE\") \n",
    "openai.api_version = \"2023-03-15-preview\"\n",
    "openai.api_key = os.getenv(\"OPENAI_API_KEY\")\n",
    "\n",
    "\n",
    "# models\n",
    "EMBEDDING_MODEL = \"text-embedding-ada-002\"\n",
    "GPT_MODEL = \"gpt-35-turbo\""
   ]
  },
  {
   "cell_type": "code",
   "execution_count": 3,
   "id": "6efd445b",
   "metadata": {},
   "outputs": [
    {
     "name": "stdout",
     "output_type": "stream",
     "text": [
      "France won the gold medal at the 2018 FIFA World Cup.\n"
     ]
    }
   ],
   "source": [
    "query = 'Which team won the gold medal at the 2018 FIFA World Cup?'\n",
    "\n",
    "response = openai.ChatCompletion.create(\n",
    "    engine=GPT_MODEL,\n",
    "    messages=[\n",
    "        {'role': 'system', 'content': 'You answer questions about the 2018 FIFA World Cup'},\n",
    "        {'role': 'user', 'content': query},\n",
    "    ],\n",
    "    temperature=0,\n",
    ")\n",
    "\n",
    "print(response['choices'][0]['message']['content'])"
   ]
  },
  {
   "cell_type": "code",
   "execution_count": 4,
   "id": "20f2bd37",
   "metadata": {},
   "outputs": [],
   "source": [
    "embeddings_path = \"https://cdn.openai.com/API/examples/data/winter_olympics_2022.csv\"\n",
    "\n",
    "df = pd.read_csv(embeddings_path)"
   ]
  },
  {
   "cell_type": "code",
   "execution_count": 5,
   "id": "313103f4",
   "metadata": {},
   "outputs": [],
   "source": [
    "# convert embeddings from CSV str type back to list type\n",
    "df['embedding'] = df['embedding'].apply(ast.literal_eval)"
   ]
  },
  {
   "cell_type": "code",
   "execution_count": 6,
   "id": "8b2762c1",
   "metadata": {},
   "outputs": [
    {
     "data": {
      "text/html": [
       "<div>\n",
       "<style scoped>\n",
       "    .dataframe tbody tr th:only-of-type {\n",
       "        vertical-align: middle;\n",
       "    }\n",
       "\n",
       "    .dataframe tbody tr th {\n",
       "        vertical-align: top;\n",
       "    }\n",
       "\n",
       "    .dataframe thead th {\n",
       "        text-align: right;\n",
       "    }\n",
       "</style>\n",
       "<table border=\"1\" class=\"dataframe\">\n",
       "  <thead>\n",
       "    <tr style=\"text-align: right;\">\n",
       "      <th></th>\n",
       "      <th>text</th>\n",
       "      <th>embedding</th>\n",
       "    </tr>\n",
       "  </thead>\n",
       "  <tbody>\n",
       "    <tr>\n",
       "      <th>0</th>\n",
       "      <td>Lviv bid for the 2022 Winter Olympics\\n\\n{{Oly...</td>\n",
       "      <td>[-0.005021067801862955, 0.00026050032465718687...</td>\n",
       "    </tr>\n",
       "    <tr>\n",
       "      <th>1</th>\n",
       "      <td>Lviv bid for the 2022 Winter Olympics\\n\\n==His...</td>\n",
       "      <td>[0.0033927420154213905, -0.007447326090186834,...</td>\n",
       "    </tr>\n",
       "    <tr>\n",
       "      <th>2</th>\n",
       "      <td>Lviv bid for the 2022 Winter Olympics\\n\\n==Ven...</td>\n",
       "      <td>[-0.00915789045393467, -0.008366798982024193, ...</td>\n",
       "    </tr>\n",
       "    <tr>\n",
       "      <th>3</th>\n",
       "      <td>Lviv bid for the 2022 Winter Olympics\\n\\n==Ven...</td>\n",
       "      <td>[0.0030951891094446182, -0.006064314860850573,...</td>\n",
       "    </tr>\n",
       "    <tr>\n",
       "      <th>4</th>\n",
       "      <td>Lviv bid for the 2022 Winter Olympics\\n\\n==Ven...</td>\n",
       "      <td>[-0.002936174161732197, -0.006185177247971296,...</td>\n",
       "    </tr>\n",
       "    <tr>\n",
       "      <th>...</th>\n",
       "      <td>...</td>\n",
       "      <td>...</td>\n",
       "    </tr>\n",
       "    <tr>\n",
       "      <th>6054</th>\n",
       "      <td>Anaïs Chevalier-Bouchet\\n\\n==Personal life==\\n...</td>\n",
       "      <td>[-0.027750400826334953, 0.001746018067933619, ...</td>\n",
       "    </tr>\n",
       "    <tr>\n",
       "      <th>6055</th>\n",
       "      <td>Uliana Nigmatullina\\n\\n{{short description|Rus...</td>\n",
       "      <td>[-0.021714167669415474, 0.016001321375370026, ...</td>\n",
       "    </tr>\n",
       "    <tr>\n",
       "      <th>6056</th>\n",
       "      <td>Uliana Nigmatullina\\n\\n==Biathlon results==\\n\\...</td>\n",
       "      <td>[-0.029143543913960457, 0.014654331840574741, ...</td>\n",
       "    </tr>\n",
       "    <tr>\n",
       "      <th>6057</th>\n",
       "      <td>Uliana Nigmatullina\\n\\n==Biathlon results==\\n\\...</td>\n",
       "      <td>[-0.024266039952635765, 0.011665306985378265, ...</td>\n",
       "    </tr>\n",
       "    <tr>\n",
       "      <th>6058</th>\n",
       "      <td>Uliana Nigmatullina\\n\\n==Biathlon results==\\n\\...</td>\n",
       "      <td>[-0.021818075329065323, 0.005420385394245386, ...</td>\n",
       "    </tr>\n",
       "  </tbody>\n",
       "</table>\n",
       "<p>6059 rows × 2 columns</p>\n",
       "</div>"
      ],
      "text/plain": [
       "                                                   text  \\\n",
       "0     Lviv bid for the 2022 Winter Olympics\\n\\n{{Oly...   \n",
       "1     Lviv bid for the 2022 Winter Olympics\\n\\n==His...   \n",
       "2     Lviv bid for the 2022 Winter Olympics\\n\\n==Ven...   \n",
       "3     Lviv bid for the 2022 Winter Olympics\\n\\n==Ven...   \n",
       "4     Lviv bid for the 2022 Winter Olympics\\n\\n==Ven...   \n",
       "...                                                 ...   \n",
       "6054  Anaïs Chevalier-Bouchet\\n\\n==Personal life==\\n...   \n",
       "6055  Uliana Nigmatullina\\n\\n{{short description|Rus...   \n",
       "6056  Uliana Nigmatullina\\n\\n==Biathlon results==\\n\\...   \n",
       "6057  Uliana Nigmatullina\\n\\n==Biathlon results==\\n\\...   \n",
       "6058  Uliana Nigmatullina\\n\\n==Biathlon results==\\n\\...   \n",
       "\n",
       "                                              embedding  \n",
       "0     [-0.005021067801862955, 0.00026050032465718687...  \n",
       "1     [0.0033927420154213905, -0.007447326090186834,...  \n",
       "2     [-0.00915789045393467, -0.008366798982024193, ...  \n",
       "3     [0.0030951891094446182, -0.006064314860850573,...  \n",
       "4     [-0.002936174161732197, -0.006185177247971296,...  \n",
       "...                                                 ...  \n",
       "6054  [-0.027750400826334953, 0.001746018067933619, ...  \n",
       "6055  [-0.021714167669415474, 0.016001321375370026, ...  \n",
       "6056  [-0.029143543913960457, 0.014654331840574741, ...  \n",
       "6057  [-0.024266039952635765, 0.011665306985378265, ...  \n",
       "6058  [-0.021818075329065323, 0.005420385394245386, ...  \n",
       "\n",
       "[6059 rows x 2 columns]"
      ]
     },
     "execution_count": 6,
     "metadata": {},
     "output_type": "execute_result"
    }
   ],
   "source": [
    "# the dataframe has two columns: \"text\" and \"embedding\"\n",
    "df"
   ]
  },
  {
   "cell_type": "code",
   "execution_count": 7,
   "id": "5be67a2b",
   "metadata": {},
   "outputs": [],
   "source": [
    "# search function\n",
    "def strings_ranked_by_relatedness(\n",
    "    query: str,\n",
    "    df: pd.DataFrame,\n",
    "    relatedness_fn=lambda x, y: 1 - spatial.distance.cosine(x, y),\n",
    "    top_n: int = 100\n",
    ") -> tuple[list[str], list[float]]:\n",
    "    \"\"\"Returns a list of strings and relatednesses, sorted from most related to least.\"\"\"\n",
    "    query_embedding_response = openai.Embedding.create(\n",
    "        engine=EMBEDDING_MODEL,\n",
    "        input=query,\n",
    "    )\n",
    "    query_embedding = query_embedding_response[\"data\"][0][\"embedding\"]\n",
    "    strings_and_relatednesses = [\n",
    "        (row[\"text\"], relatedness_fn(query_embedding, row[\"embedding\"]))\n",
    "        for i, row in df.iterrows()\n",
    "    ]\n",
    "    strings_and_relatednesses.sort(key=lambda x: x[1], reverse=True)\n",
    "    strings, relatednesses = zip(*strings_and_relatednesses)\n",
    "    return strings[:top_n], relatednesses[:top_n]"
   ]
  },
  {
   "cell_type": "code",
   "execution_count": 8,
   "id": "77174860",
   "metadata": {},
   "outputs": [
    {
     "name": "stdout",
     "output_type": "stream",
     "text": [
      "relatedness=0.879\n"
     ]
    },
    {
     "data": {
      "text/plain": [
       "'Curling at the 2022 Winter Olympics\\n\\n==Medal summary==\\n\\n===Medal table===\\n\\n{{Medals table\\n | caption        = \\n | host           = \\n | flag_template  = flagIOC\\n | event          = 2022 Winter\\n | team           = \\n | gold_CAN = 0 | silver_CAN = 0 | bronze_CAN = 1\\n | gold_ITA = 1 | silver_ITA = 0 | bronze_ITA = 0\\n | gold_NOR = 0 | silver_NOR = 1 | bronze_NOR = 0\\n | gold_SWE = 1 | silver_SWE = 0 | bronze_SWE = 2\\n | gold_GBR = 1 | silver_GBR = 1 | bronze_GBR = 0\\n | gold_JPN = 0 | silver_JPN = 1 | bronze_JPN - 0\\n}}'"
      ]
     },
     "metadata": {},
     "output_type": "display_data"
    },
    {
     "name": "stdout",
     "output_type": "stream",
     "text": [
      "relatedness=0.872\n"
     ]
    },
    {
     "data": {
      "text/plain": [
       "\"Curling at the 2022 Winter Olympics\\n\\n==Results summary==\\n\\n===Women's tournament===\\n\\n====Playoffs====\\n\\n=====Gold medal game=====\\n\\n''Sunday, 20 February, 9:05''\\n{{#lst:Curling at the 2022 Winter Olympics – Women's tournament|GM}}\\n{{Player percentages\\n| team1 = {{flagIOC|JPN|2022 Winter}}\\n| [[Yurika Yoshida]] | 97%\\n| [[Yumi Suzuki]] | 82%\\n| [[Chinami Yoshida]] | 64%\\n| [[Satsuki Fujisawa]] | 69%\\n| teampct1 = 78%\\n| team2 = {{flagIOC|GBR|2022 Winter}}\\n| [[Hailey Duff]] | 90%\\n| [[Jennifer Dodds]] | 89%\\n| [[Vicky Wright]] | 89%\\n| [[Eve Muirhead]] | 88%\\n| teampct2 = 89%\\n}}\""
      ]
     },
     "metadata": {},
     "output_type": "display_data"
    },
    {
     "name": "stdout",
     "output_type": "stream",
     "text": [
      "relatedness=0.869\n"
     ]
    },
    {
     "data": {
      "text/plain": [
       "'Curling at the 2022 Winter Olympics\\n\\n==Results summary==\\n\\n===Mixed doubles tournament===\\n\\n====Playoffs====\\n\\n=====Gold medal game=====\\n\\n\\'\\'Tuesday, 8 February, 20:05\\'\\'\\n{{#lst:Curling at the 2022 Winter Olympics – Mixed doubles tournament|GM}}\\n{| class=\"wikitable\"\\n!colspan=4 width=400|Player percentages\\n|-\\n!colspan=2 width=200 style=\"white-space:nowrap;\"| {{flagIOC|ITA|2022 Winter}}\\n!colspan=2 width=200 style=\"white-space:nowrap;\"| {{flagIOC|NOR|2022 Winter}}\\n|-\\n| [[Stefania Constantini]] || 83%\\n| [[Kristin Skaslien]] || 70%\\n|-\\n| [[Amos Mosaner]] || 90%\\n| [[Magnus Nedregotten]] || 69%\\n|-\\n| \\'\\'\\'Total\\'\\'\\' || 87%\\n| \\'\\'\\'Total\\'\\'\\' || 69%\\n|}'"
      ]
     },
     "metadata": {},
     "output_type": "display_data"
    },
    {
     "name": "stdout",
     "output_type": "stream",
     "text": [
      "relatedness=0.868\n"
     ]
    },
    {
     "data": {
      "text/plain": [
       "\"Curling at the 2022 Winter Olympics\\n\\n==Medal summary==\\n\\n===Medalists===\\n\\n{| {{MedalistTable|type=Event|columns=1}}\\n|-\\n|Men<br/>{{DetailsLink|Curling at the 2022 Winter Olympics – Men's tournament}}\\n|{{flagIOC|SWE|2022 Winter}}<br>[[Niklas Edin]]<br>[[Oskar Eriksson]]<br>[[Rasmus Wranå]]<br>[[Christoffer Sundgren]]<br>[[Daniel Magnusson (curler)|Daniel Magnusson]]\\n|{{flagIOC|GBR|2022 Winter}}<br>[[Bruce Mouat]]<br>[[Grant Hardie]]<br>[[Bobby Lammie]]<br>[[Hammy McMillan Jr.]]<br>[[Ross Whyte]]\\n|{{flagIOC|CAN|2022 Winter}}<br>[[Brad Gushue]]<br>[[Mark Nichols (curler)|Mark Nichols]]<br>[[Brett Gallant]]<br>[[Geoff Walker (curler)|Geoff Walker]]<br>[[Marc Kennedy]]\\n|-\\n|Women<br/>{{DetailsLink|Curling at the 2022 Winter Olympics – Women's tournament}}\\n|{{flagIOC|GBR|2022 Winter}}<br>[[Eve Muirhead]]<br>[[Vicky Wright]]<br>[[Jennifer Dodds]]<br>[[Hailey Duff]]<br>[[Mili Smith]]\\n|{{flagIOC|JPN|2022 Winter}}<br>[[Satsuki Fujisawa]]<br>[[Chinami Yoshida]]<br>[[Yumi Suzuki]]<br>[[Yurika Yoshida]]<br>[[Kotomi Ishizaki]]\\n|{{flagIOC|SWE|2022 Winter}}<br>[[Anna Hasselborg]]<br>[[Sara McManus]]<br>[[Agnes Knochenhauer]]<br>[[Sofia Mabergs]]<br>[[Johanna Heldin]]\\n|-\\n|Mixed doubles<br/>{{DetailsLink|Curling at the 2022 Winter Olympics – Mixed doubles tournament}}\\n|{{flagIOC|ITA|2022 Winter}}<br>[[Stefania Constantini]]<br>[[Amos Mosaner]]\\n|{{flagIOC|NOR|2022 Winter}}<br>[[Kristin Skaslien]]<br>[[Magnus Nedregotten]]\\n|{{flagIOC|SWE|2022 Winter}}<br>[[Almida de Val]]<br>[[Oskar Eriksson]]\\n|}\""
      ]
     },
     "metadata": {},
     "output_type": "display_data"
    },
    {
     "name": "stdout",
     "output_type": "stream",
     "text": [
      "relatedness=0.867\n"
     ]
    },
    {
     "data": {
      "text/plain": [
       "\"Curling at the 2022 Winter Olympics\\n\\n==Results summary==\\n\\n===Men's tournament===\\n\\n====Playoffs====\\n\\n=====Gold medal game=====\\n\\n''Saturday, 19 February, 14:50''\\n{{#lst:Curling at the 2022 Winter Olympics – Men's tournament|GM}}\\n{{Player percentages\\n| team1 = {{flagIOC|GBR|2022 Winter}}\\n| [[Hammy McMillan Jr.]] | 95%\\n| [[Bobby Lammie]] | 80%\\n| [[Grant Hardie]] | 94%\\n| [[Bruce Mouat]] | 89%\\n| teampct1 = 90%\\n| team2 = {{flagIOC|SWE|2022 Winter}}\\n| [[Christoffer Sundgren]] | 99%\\n| [[Rasmus Wranå]] | 95%\\n| [[Oskar Eriksson]] | 93%\\n| [[Niklas Edin]] | 87%\\n| teampct2 = 94%\\n}}\""
      ]
     },
     "metadata": {},
     "output_type": "display_data"
    }
   ],
   "source": [
    "# examples\n",
    "strings, relatednesses = strings_ranked_by_relatedness(\"curling gold medal\", df, top_n=5)\n",
    "for string, relatedness in zip(strings, relatednesses):\n",
    "    print(f\"{relatedness=:.3f}\")\n",
    "    display(string)"
   ]
  },
  {
   "cell_type": "code",
   "execution_count": 27,
   "id": "a216a92b",
   "metadata": {},
   "outputs": [],
   "source": [
    "\n",
    "\n",
    "def num_tokens(text: str, model: str = GPT_MODEL) -> int:\n",
    "    \"\"\"Return the number of tokens in a string.\"\"\"\n",
    "    encoding = tiktoken.encoding_for_model(\"gpt-3.5-turbo\")\n",
    "    return len(encoding.encode(text))\n",
    "\n",
    "\n",
    "def query_message(\n",
    "    query: str,\n",
    "    df: pd.DataFrame,\n",
    "    model: str,\n",
    "    token_budget: int\n",
    ") -> str:\n",
    "    \"\"\"Return a message for GPT, with relevant source texts pulled from a dataframe.\"\"\"\n",
    "    strings, relatednesses = strings_ranked_by_relatedness(query, df)\n",
    "    introduction = 'Use the below articles on the 2022 Winter Olympics to answer the subsequent question. If the answer cannot be found in the articles, write \"I could not find an answer.\"'\n",
    "    question = f\"\\n\\nQuestion: {query}\"\n",
    "    message = introduction\n",
    "    for string in strings:\n",
    "        next_article = f'\\n\\nWikipedia article section:\\n\"\"\"\\n{string}\\n\"\"\"'\n",
    "        if (\n",
    "            num_tokens(message + next_article + question, model=model)\n",
    "            > token_budget\n",
    "        ):\n",
    "            break\n",
    "        else:\n",
    "            message += next_article\n",
    "    return message + question\n",
    "\n",
    "\n",
    "def ask(\n",
    "    query: str,\n",
    "    df: pd.DataFrame = df,\n",
    "    model: str = GPT_MODEL,\n",
    "    token_budget: int = 4096 - 500,\n",
    "    print_message: bool = False,\n",
    ") -> str:\n",
    "    \"\"\"Answers a query using GPT and a dataframe of relevant texts and embeddings.\"\"\"\n",
    "    message = query_message(query, df, model=model, token_budget=token_budget)\n",
    "    if print_message:\n",
    "        print(message)\n",
    "    messages = [\n",
    "        {\"role\": \"system\", \"content\": \"You answer questions about the 2022 Winter Olympics.\"},\n",
    "        {\"role\": \"user\", \"content\": message},\n",
    "    ]\n",
    "    response = openai.ChatCompletion.create(\n",
    "        engine=model,\n",
    "        messages=messages,\n",
    "        temperature=0\n",
    "    )\n",
    "    response_message = response[\"choices\"][0][\"message\"][\"content\"]\n",
    "    return response_message"
   ]
  },
  {
   "cell_type": "code",
   "execution_count": 28,
   "id": "a8899efe",
   "metadata": {},
   "outputs": [
    {
     "data": {
      "text/plain": [
       "\"There were two gold medal-winning teams in curling at the 2022 Winter Olympics: the Swedish men's team consisting of Niklas Edin, Oskar Eriksson, Rasmus Wranå, Christoffer Sundgren, and Daniel Magnusson, and the British women's team consisting of Eve Muirhead, Vicky Wright, Jennifer Dodds, Hailey Duff, and Mili Smith.\""
      ]
     },
     "execution_count": 28,
     "metadata": {},
     "output_type": "execute_result"
    }
   ],
   "source": [
    "ask('Which athletes won the gold medal in curling at the 2022 Winter Olympics?')"
   ]
  },
  {
   "cell_type": "code",
   "execution_count": 22,
   "id": "2f16bf05",
   "metadata": {},
   "outputs": [
    {
     "data": {
      "text/plain": [
       "6"
      ]
     },
     "execution_count": 22,
     "metadata": {},
     "output_type": "execute_result"
    }
   ],
   "source": []
  },
  {
   "cell_type": "code",
   "execution_count": null,
   "id": "b4d13780",
   "metadata": {},
   "outputs": [],
   "source": []
  }
 ],
 "metadata": {
  "kernelspec": {
   "display_name": "Python 3 (ipykernel)",
   "language": "python",
   "name": "python3"
  },
  "language_info": {
   "codemirror_mode": {
    "name": "ipython",
    "version": 3
   },
   "file_extension": ".py",
   "mimetype": "text/x-python",
   "name": "python",
   "nbconvert_exporter": "python",
   "pygments_lexer": "ipython3",
   "version": "3.9.7"
  }
 },
 "nbformat": 4,
 "nbformat_minor": 5
}
